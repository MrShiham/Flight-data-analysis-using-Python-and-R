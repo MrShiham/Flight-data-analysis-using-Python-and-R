{
 "cells": [
  {
   "cell_type": "code",
   "execution_count": 35,
   "id": "188561be",
   "metadata": {},
   "outputs": [],
   "source": [
    "# Importing pandas library\n",
    "import pandas as pd\n",
    "import numpy as np"
   ]
  },
  {
   "cell_type": "code",
   "execution_count": 36,
   "id": "2eb855c7",
   "metadata": {},
   "outputs": [],
   "source": [
    "# Importing the data sets of year 2006 and 2007\n",
    "dataset_2006 = pd.read_csv(r\"C:\\Documents\\Python data set\\2006.csv\").sample(frac=0.1, random_state=42)\n",
    "dataset_2007 = pd.read_csv(r\"C:\\Documents\\Python data set\\2007.csv\").sample(frac=0.1, random_state=42)"
   ]
  },
  {
   "cell_type": "code",
   "execution_count": 37,
   "id": "a4719ae6",
   "metadata": {},
   "outputs": [
    {
     "data": {
      "text/plain": [
       "Index(['Year', 'Month', 'DayofMonth', 'DayOfWeek', 'DepTime', 'CRSDepTime',\n",
       "       'ArrTime', 'CRSArrTime', 'UniqueCarrier', 'FlightNum', 'TailNum',\n",
       "       'ActualElapsedTime', 'CRSElapsedTime', 'AirTime', 'ArrDelay',\n",
       "       'DepDelay', 'Origin', 'Dest', 'Distance', 'TaxiIn', 'TaxiOut',\n",
       "       'Cancelled', 'CancellationCode', 'Diverted', 'CarrierDelay',\n",
       "       'WeatherDelay', 'NASDelay', 'SecurityDelay', 'LateAircraftDelay'],\n",
       "      dtype='object')"
      ]
     },
     "execution_count": 37,
     "metadata": {},
     "output_type": "execute_result"
    }
   ],
   "source": [
    "# Checking datasets\n",
    "dataset_2006.columns"
   ]
  },
  {
   "cell_type": "code",
   "execution_count": 38,
   "id": "271326ed",
   "metadata": {},
   "outputs": [
    {
     "data": {
      "text/plain": [
       "Index(['Year', 'Month', 'DayofMonth', 'DayOfWeek', 'DepTime', 'CRSDepTime',\n",
       "       'ArrTime', 'CRSArrTime', 'UniqueCarrier', 'FlightNum', 'TailNum',\n",
       "       'ActualElapsedTime', 'CRSElapsedTime', 'AirTime', 'ArrDelay',\n",
       "       'DepDelay', 'Origin', 'Dest', 'Distance', 'TaxiIn', 'TaxiOut',\n",
       "       'Cancelled', 'CancellationCode', 'Diverted', 'CarrierDelay',\n",
       "       'WeatherDelay', 'NASDelay', 'SecurityDelay', 'LateAircraftDelay'],\n",
       "      dtype='object')"
      ]
     },
     "execution_count": 38,
     "metadata": {},
     "output_type": "execute_result"
    }
   ],
   "source": [
    "dataset_2007.columns"
   ]
  },
  {
   "cell_type": "code",
   "execution_count": 39,
   "id": "55fce0a1",
   "metadata": {},
   "outputs": [
    {
     "data": {
      "text/plain": [
       "(714192, 29)"
      ]
     },
     "execution_count": 39,
     "metadata": {},
     "output_type": "execute_result"
    }
   ],
   "source": [
    "dataset_2006.shape"
   ]
  },
  {
   "cell_type": "code",
   "execution_count": 40,
   "id": "5dd92b7e",
   "metadata": {},
   "outputs": [
    {
     "data": {
      "text/plain": [
       "(745322, 29)"
      ]
     },
     "execution_count": 40,
     "metadata": {},
     "output_type": "execute_result"
    }
   ],
   "source": [
    "dataset_2007.shape"
   ]
  },
  {
   "cell_type": "code",
   "execution_count": 19,
   "id": "7fa870b4",
   "metadata": {},
   "outputs": [
    {
     "data": {
      "text/plain": [
       "Year                   int64\n",
       "Month                  int64\n",
       "DayofMonth             int64\n",
       "DayOfWeek              int64\n",
       "DepTime              float64\n",
       "CRSDepTime             int64\n",
       "ArrTime              float64\n",
       "CRSArrTime             int64\n",
       "UniqueCarrier         object\n",
       "FlightNum              int64\n",
       "TailNum               object\n",
       "ActualElapsedTime    float64\n",
       "CRSElapsedTime       float64\n",
       "AirTime              float64\n",
       "ArrDelay             float64\n",
       "DepDelay             float64\n",
       "Origin                object\n",
       "Dest                  object\n",
       "Distance               int64\n",
       "TaxiIn                 int64\n",
       "TaxiOut                int64\n",
       "Cancelled              int64\n",
       "CancellationCode      object\n",
       "Diverted               int64\n",
       "CarrierDelay           int64\n",
       "WeatherDelay           int64\n",
       "NASDelay               int64\n",
       "SecurityDelay          int64\n",
       "LateAircraftDelay      int64\n",
       "dtype: object"
      ]
     },
     "execution_count": 19,
     "metadata": {},
     "output_type": "execute_result"
    }
   ],
   "source": [
    "dataset_2006.dtypes"
   ]
  },
  {
   "cell_type": "code",
   "execution_count": 20,
   "id": "7db1b8ef",
   "metadata": {},
   "outputs": [
    {
     "data": {
      "text/plain": [
       "Year                   int64\n",
       "Month                  int64\n",
       "DayofMonth             int64\n",
       "DayOfWeek              int64\n",
       "DepTime              float64\n",
       "CRSDepTime             int64\n",
       "ArrTime              float64\n",
       "CRSArrTime             int64\n",
       "UniqueCarrier         object\n",
       "FlightNum              int64\n",
       "TailNum               object\n",
       "ActualElapsedTime    float64\n",
       "CRSElapsedTime       float64\n",
       "AirTime              float64\n",
       "ArrDelay             float64\n",
       "DepDelay             float64\n",
       "Origin                object\n",
       "Dest                  object\n",
       "Distance               int64\n",
       "TaxiIn                 int64\n",
       "TaxiOut                int64\n",
       "Cancelled              int64\n",
       "CancellationCode      object\n",
       "Diverted               int64\n",
       "CarrierDelay           int64\n",
       "WeatherDelay           int64\n",
       "NASDelay               int64\n",
       "SecurityDelay          int64\n",
       "LateAircraftDelay      int64\n",
       "dtype: object"
      ]
     },
     "execution_count": 20,
     "metadata": {},
     "output_type": "execute_result"
    }
   ],
   "source": [
    "dataset_2007.dtypes"
   ]
  },
  {
   "cell_type": "code",
   "execution_count": 41,
   "id": "d5b02ba4",
   "metadata": {},
   "outputs": [],
   "source": [
    "# Merging columns of both data sets to form a combined data set\n",
    "merged_data = pd.concat([dataset_2006,dataset_2007])"
   ]
  },
  {
   "cell_type": "code",
   "execution_count": 46,
   "id": "05609d2d",
   "metadata": {},
   "outputs": [
    {
     "data": {
      "text/plain": [
       "Index(['Year', 'Month', 'DayofMonth', 'DayOfWeek', 'DepTime', 'CRSDepTime',\n",
       "       'ArrTime', 'CRSArrTime', 'UniqueCarrier', 'FlightNum', 'TailNum',\n",
       "       'ActualElapsedTime', 'CRSElapsedTime', 'AirTime', 'ArrDelay',\n",
       "       'DepDelay', 'Origin', 'Dest', 'Distance', 'TaxiIn', 'TaxiOut',\n",
       "       'Cancelled', 'CancellationCode', 'Diverted', 'CarrierDelay',\n",
       "       'WeatherDelay', 'NASDelay', 'SecurityDelay', 'LateAircraftDelay'],\n",
       "      dtype='object')"
      ]
     },
     "execution_count": 46,
     "metadata": {},
     "output_type": "execute_result"
    }
   ],
   "source": [
    "# Checking the merged data set\n",
    "merged_data.columns"
   ]
  },
  {
   "cell_type": "code",
   "execution_count": 78,
   "id": "3625ac50",
   "metadata": {},
   "outputs": [
    {
     "data": {
      "text/html": [
       "<div>\n",
       "<style scoped>\n",
       "    .dataframe tbody tr th:only-of-type {\n",
       "        vertical-align: middle;\n",
       "    }\n",
       "\n",
       "    .dataframe tbody tr th {\n",
       "        vertical-align: top;\n",
       "    }\n",
       "\n",
       "    .dataframe thead th {\n",
       "        text-align: right;\n",
       "    }\n",
       "</style>\n",
       "<table border=\"1\" class=\"dataframe\">\n",
       "  <thead>\n",
       "    <tr style=\"text-align: right;\">\n",
       "      <th></th>\n",
       "      <th>Year</th>\n",
       "      <th>Month</th>\n",
       "      <th>DayofMonth</th>\n",
       "      <th>DayOfWeek</th>\n",
       "      <th>DepTime</th>\n",
       "      <th>CRSDepTime</th>\n",
       "      <th>ArrTime</th>\n",
       "      <th>CRSArrTime</th>\n",
       "      <th>UniqueCarrier</th>\n",
       "      <th>FlightNum</th>\n",
       "      <th>...</th>\n",
       "      <th>TaxiIn</th>\n",
       "      <th>TaxiOut</th>\n",
       "      <th>Cancelled</th>\n",
       "      <th>CancellationCode</th>\n",
       "      <th>Diverted</th>\n",
       "      <th>CarrierDelay</th>\n",
       "      <th>WeatherDelay</th>\n",
       "      <th>NASDelay</th>\n",
       "      <th>SecurityDelay</th>\n",
       "      <th>LateAircraftDelay</th>\n",
       "    </tr>\n",
       "  </thead>\n",
       "  <tbody>\n",
       "    <tr>\n",
       "      <th>5845152</th>\n",
       "      <td>2006</td>\n",
       "      <td>10</td>\n",
       "      <td>24</td>\n",
       "      <td>2</td>\n",
       "      <td>1900.0</td>\n",
       "      <td>1700</td>\n",
       "      <td>2111.0</td>\n",
       "      <td>1910</td>\n",
       "      <td>AA</td>\n",
       "      <td>2097</td>\n",
       "      <td>...</td>\n",
       "      <td>7</td>\n",
       "      <td>17</td>\n",
       "      <td>0</td>\n",
       "      <td>NaN</td>\n",
       "      <td>0</td>\n",
       "      <td>69</td>\n",
       "      <td>0</td>\n",
       "      <td>1</td>\n",
       "      <td>0</td>\n",
       "      <td>51</td>\n",
       "    </tr>\n",
       "    <tr>\n",
       "      <th>6159452</th>\n",
       "      <td>2006</td>\n",
       "      <td>11</td>\n",
       "      <td>19</td>\n",
       "      <td>7</td>\n",
       "      <td>1352.0</td>\n",
       "      <td>1351</td>\n",
       "      <td>1649.0</td>\n",
       "      <td>1726</td>\n",
       "      <td>UA</td>\n",
       "      <td>177</td>\n",
       "      <td>...</td>\n",
       "      <td>6</td>\n",
       "      <td>12</td>\n",
       "      <td>0</td>\n",
       "      <td>NaN</td>\n",
       "      <td>0</td>\n",
       "      <td>0</td>\n",
       "      <td>0</td>\n",
       "      <td>0</td>\n",
       "      <td>0</td>\n",
       "      <td>0</td>\n",
       "    </tr>\n",
       "    <tr>\n",
       "      <th>1877060</th>\n",
       "      <td>2006</td>\n",
       "      <td>4</td>\n",
       "      <td>28</td>\n",
       "      <td>5</td>\n",
       "      <td>1632.0</td>\n",
       "      <td>1635</td>\n",
       "      <td>1730.0</td>\n",
       "      <td>1743</td>\n",
       "      <td>OH</td>\n",
       "      <td>5260</td>\n",
       "      <td>...</td>\n",
       "      <td>5</td>\n",
       "      <td>10</td>\n",
       "      <td>0</td>\n",
       "      <td>NaN</td>\n",
       "      <td>0</td>\n",
       "      <td>0</td>\n",
       "      <td>0</td>\n",
       "      <td>0</td>\n",
       "      <td>0</td>\n",
       "      <td>0</td>\n",
       "    </tr>\n",
       "    <tr>\n",
       "      <th>2348342</th>\n",
       "      <td>2006</td>\n",
       "      <td>5</td>\n",
       "      <td>4</td>\n",
       "      <td>4</td>\n",
       "      <td>2006.0</td>\n",
       "      <td>1955</td>\n",
       "      <td>2115.0</td>\n",
       "      <td>2105</td>\n",
       "      <td>WN</td>\n",
       "      <td>1454</td>\n",
       "      <td>...</td>\n",
       "      <td>3</td>\n",
       "      <td>19</td>\n",
       "      <td>0</td>\n",
       "      <td>NaN</td>\n",
       "      <td>0</td>\n",
       "      <td>0</td>\n",
       "      <td>0</td>\n",
       "      <td>0</td>\n",
       "      <td>0</td>\n",
       "      <td>0</td>\n",
       "    </tr>\n",
       "    <tr>\n",
       "      <th>7057975</th>\n",
       "      <td>2006</td>\n",
       "      <td>12</td>\n",
       "      <td>21</td>\n",
       "      <td>4</td>\n",
       "      <td>744.0</td>\n",
       "      <td>730</td>\n",
       "      <td>901.0</td>\n",
       "      <td>826</td>\n",
       "      <td>AS</td>\n",
       "      <td>143</td>\n",
       "      <td>...</td>\n",
       "      <td>2</td>\n",
       "      <td>36</td>\n",
       "      <td>0</td>\n",
       "      <td>NaN</td>\n",
       "      <td>0</td>\n",
       "      <td>0</td>\n",
       "      <td>14</td>\n",
       "      <td>21</td>\n",
       "      <td>0</td>\n",
       "      <td>0</td>\n",
       "    </tr>\n",
       "    <tr>\n",
       "      <th>...</th>\n",
       "      <td>...</td>\n",
       "      <td>...</td>\n",
       "      <td>...</td>\n",
       "      <td>...</td>\n",
       "      <td>...</td>\n",
       "      <td>...</td>\n",
       "      <td>...</td>\n",
       "      <td>...</td>\n",
       "      <td>...</td>\n",
       "      <td>...</td>\n",
       "      <td>...</td>\n",
       "      <td>...</td>\n",
       "      <td>...</td>\n",
       "      <td>...</td>\n",
       "      <td>...</td>\n",
       "      <td>...</td>\n",
       "      <td>...</td>\n",
       "      <td>...</td>\n",
       "      <td>...</td>\n",
       "      <td>...</td>\n",
       "      <td>...</td>\n",
       "    </tr>\n",
       "    <tr>\n",
       "      <th>2864486</th>\n",
       "      <td>2007</td>\n",
       "      <td>5</td>\n",
       "      <td>20</td>\n",
       "      <td>7</td>\n",
       "      <td>1246.0</td>\n",
       "      <td>1250</td>\n",
       "      <td>1329.0</td>\n",
       "      <td>1340</td>\n",
       "      <td>MQ</td>\n",
       "      <td>4254</td>\n",
       "      <td>...</td>\n",
       "      <td>3</td>\n",
       "      <td>12</td>\n",
       "      <td>0</td>\n",
       "      <td>NaN</td>\n",
       "      <td>0</td>\n",
       "      <td>0</td>\n",
       "      <td>0</td>\n",
       "      <td>0</td>\n",
       "      <td>0</td>\n",
       "      <td>0</td>\n",
       "    </tr>\n",
       "    <tr>\n",
       "      <th>7193658</th>\n",
       "      <td>2007</td>\n",
       "      <td>12</td>\n",
       "      <td>14</td>\n",
       "      <td>5</td>\n",
       "      <td>1326.0</td>\n",
       "      <td>1315</td>\n",
       "      <td>1455.0</td>\n",
       "      <td>1439</td>\n",
       "      <td>F9</td>\n",
       "      <td>260</td>\n",
       "      <td>...</td>\n",
       "      <td>9</td>\n",
       "      <td>22</td>\n",
       "      <td>0</td>\n",
       "      <td>NaN</td>\n",
       "      <td>0</td>\n",
       "      <td>0</td>\n",
       "      <td>0</td>\n",
       "      <td>8</td>\n",
       "      <td>0</td>\n",
       "      <td>8</td>\n",
       "    </tr>\n",
       "    <tr>\n",
       "      <th>6727917</th>\n",
       "      <td>2007</td>\n",
       "      <td>11</td>\n",
       "      <td>26</td>\n",
       "      <td>1</td>\n",
       "      <td>1137.0</td>\n",
       "      <td>1140</td>\n",
       "      <td>1346.0</td>\n",
       "      <td>1345</td>\n",
       "      <td>AA</td>\n",
       "      <td>1007</td>\n",
       "      <td>...</td>\n",
       "      <td>6</td>\n",
       "      <td>23</td>\n",
       "      <td>0</td>\n",
       "      <td>NaN</td>\n",
       "      <td>0</td>\n",
       "      <td>0</td>\n",
       "      <td>0</td>\n",
       "      <td>0</td>\n",
       "      <td>0</td>\n",
       "      <td>0</td>\n",
       "    </tr>\n",
       "    <tr>\n",
       "      <th>3724960</th>\n",
       "      <td>2006</td>\n",
       "      <td>7</td>\n",
       "      <td>1</td>\n",
       "      <td>6</td>\n",
       "      <td>1612.0</td>\n",
       "      <td>1615</td>\n",
       "      <td>1843.0</td>\n",
       "      <td>1834</td>\n",
       "      <td>UA</td>\n",
       "      <td>55</td>\n",
       "      <td>...</td>\n",
       "      <td>3</td>\n",
       "      <td>18</td>\n",
       "      <td>0</td>\n",
       "      <td>NaN</td>\n",
       "      <td>0</td>\n",
       "      <td>0</td>\n",
       "      <td>0</td>\n",
       "      <td>0</td>\n",
       "      <td>0</td>\n",
       "      <td>0</td>\n",
       "    </tr>\n",
       "    <tr>\n",
       "      <th>3024732</th>\n",
       "      <td>2006</td>\n",
       "      <td>6</td>\n",
       "      <td>29</td>\n",
       "      <td>4</td>\n",
       "      <td>1624.0</td>\n",
       "      <td>1625</td>\n",
       "      <td>1648.0</td>\n",
       "      <td>1655</td>\n",
       "      <td>WN</td>\n",
       "      <td>726</td>\n",
       "      <td>...</td>\n",
       "      <td>6</td>\n",
       "      <td>7</td>\n",
       "      <td>0</td>\n",
       "      <td>NaN</td>\n",
       "      <td>0</td>\n",
       "      <td>0</td>\n",
       "      <td>0</td>\n",
       "      <td>0</td>\n",
       "      <td>0</td>\n",
       "      <td>0</td>\n",
       "    </tr>\n",
       "  </tbody>\n",
       "</table>\n",
       "<p>100000 rows × 29 columns</p>\n",
       "</div>"
      ],
      "text/plain": [
       "         Year  Month  DayofMonth  DayOfWeek  DepTime  CRSDepTime  ArrTime  \\\n",
       "5845152  2006     10          24          2   1900.0        1700   2111.0   \n",
       "6159452  2006     11          19          7   1352.0        1351   1649.0   \n",
       "1877060  2006      4          28          5   1632.0        1635   1730.0   \n",
       "2348342  2006      5           4          4   2006.0        1955   2115.0   \n",
       "7057975  2006     12          21          4    744.0         730    901.0   \n",
       "...       ...    ...         ...        ...      ...         ...      ...   \n",
       "2864486  2007      5          20          7   1246.0        1250   1329.0   \n",
       "7193658  2007     12          14          5   1326.0        1315   1455.0   \n",
       "6727917  2007     11          26          1   1137.0        1140   1346.0   \n",
       "3724960  2006      7           1          6   1612.0        1615   1843.0   \n",
       "3024732  2006      6          29          4   1624.0        1625   1648.0   \n",
       "\n",
       "         CRSArrTime UniqueCarrier  FlightNum  ... TaxiIn  TaxiOut  Cancelled  \\\n",
       "5845152        1910            AA       2097  ...      7       17          0   \n",
       "6159452        1726            UA        177  ...      6       12          0   \n",
       "1877060        1743            OH       5260  ...      5       10          0   \n",
       "2348342        2105            WN       1454  ...      3       19          0   \n",
       "7057975         826            AS        143  ...      2       36          0   \n",
       "...             ...           ...        ...  ...    ...      ...        ...   \n",
       "2864486        1340            MQ       4254  ...      3       12          0   \n",
       "7193658        1439            F9        260  ...      9       22          0   \n",
       "6727917        1345            AA       1007  ...      6       23          0   \n",
       "3724960        1834            UA         55  ...      3       18          0   \n",
       "3024732        1655            WN        726  ...      6        7          0   \n",
       "\n",
       "         CancellationCode  Diverted  CarrierDelay WeatherDelay NASDelay  \\\n",
       "5845152               NaN         0            69            0        1   \n",
       "6159452               NaN         0             0            0        0   \n",
       "1877060               NaN         0             0            0        0   \n",
       "2348342               NaN         0             0            0        0   \n",
       "7057975               NaN         0             0           14       21   \n",
       "...                   ...       ...           ...          ...      ...   \n",
       "2864486               NaN         0             0            0        0   \n",
       "7193658               NaN         0             0            0        8   \n",
       "6727917               NaN         0             0            0        0   \n",
       "3724960               NaN         0             0            0        0   \n",
       "3024732               NaN         0             0            0        0   \n",
       "\n",
       "         SecurityDelay  LateAircraftDelay  \n",
       "5845152              0                 51  \n",
       "6159452              0                  0  \n",
       "1877060              0                  0  \n",
       "2348342              0                  0  \n",
       "7057975              0                  0  \n",
       "...                ...                ...  \n",
       "2864486              0                  0  \n",
       "7193658              0                  8  \n",
       "6727917              0                  0  \n",
       "3724960              0                  0  \n",
       "3024732              0                  0  \n",
       "\n",
       "[100000 rows x 29 columns]"
      ]
     },
     "execution_count": 78,
     "metadata": {},
     "output_type": "execute_result"
    }
   ],
   "source": [
    "merged_data.head(100000)"
   ]
  },
  {
   "cell_type": "code",
   "execution_count": 50,
   "id": "5b188941",
   "metadata": {},
   "outputs": [],
   "source": [
    "# Removing the duplicates\n",
    "merged_data = filtered_data.drop_duplicates()\n"
   ]
  },
  {
   "cell_type": "code",
   "execution_count": 51,
   "id": "ff9e8da4",
   "metadata": {
    "scrolled": true
   },
   "outputs": [
    {
     "data": {
      "text/plain": [
       "Year                       0\n",
       "Month                      0\n",
       "DayofMonth                 0\n",
       "DayOfWeek                  0\n",
       "DepTime                28284\n",
       "CRSDepTime                 0\n",
       "ArrTime                31545\n",
       "CRSArrTime                 0\n",
       "UniqueCarrier              0\n",
       "FlightNum                  0\n",
       "TailNum                    2\n",
       "ActualElapsedTime      31545\n",
       "CRSElapsedTime            88\n",
       "AirTime                31545\n",
       "ArrDelay                   0\n",
       "DepDelay                   0\n",
       "Origin                     0\n",
       "Dest                       0\n",
       "Distance                   0\n",
       "TaxiIn                     0\n",
       "TaxiOut                    0\n",
       "Cancelled                  0\n",
       "CancellationCode     1431230\n",
       "Diverted                   0\n",
       "CarrierDelay               0\n",
       "WeatherDelay               0\n",
       "NASDelay                   0\n",
       "SecurityDelay              0\n",
       "LateAircraftDelay          0\n",
       "dtype: int64"
      ]
     },
     "execution_count": 51,
     "metadata": {},
     "output_type": "execute_result"
    }
   ],
   "source": [
    "# Checking for any null and missing values\n",
    "merged_data.isnull().sum(axis=0)"
   ]
  },
  {
   "cell_type": "code",
   "execution_count": 52,
   "id": "e48496e3",
   "metadata": {
    "scrolled": true
   },
   "outputs": [],
   "source": [
    "# Filling null values with mean values for column ArrDelay\n",
    "merged_data['ArrDelay'] = merged_data['ArrDelay'].interpolate()"
   ]
  },
  {
   "cell_type": "code",
   "execution_count": 54,
   "id": "4efd044f",
   "metadata": {
    "scrolled": true
   },
   "outputs": [],
   "source": [
    "# Filling null values with mean values for column DepDelay\n",
    "merged_data['DepDelay'] = merged_data['DepDelay'].interpolate()"
   ]
  },
  {
   "cell_type": "code",
   "execution_count": 55,
   "id": "dbd87768",
   "metadata": {
    "scrolled": true
   },
   "outputs": [
    {
     "data": {
      "text/plain": [
       "0"
      ]
     },
     "execution_count": 55,
     "metadata": {},
     "output_type": "execute_result"
    }
   ],
   "source": [
    "# Checking again to make sure those missing value are filled with values\n",
    "merged_data['ArrDelay'].isnull().sum(axis=0)"
   ]
  },
  {
   "cell_type": "code",
   "execution_count": 56,
   "id": "e6bd7285",
   "metadata": {},
   "outputs": [
    {
     "data": {
      "text/plain": [
       "0"
      ]
     },
     "execution_count": 56,
     "metadata": {},
     "output_type": "execute_result"
    }
   ],
   "source": [
    "merged_data['DepDelay'].isnull().sum(axis=0)"
   ]
  },
  {
   "cell_type": "code",
   "execution_count": 79,
   "id": "f10b4f48",
   "metadata": {},
   "outputs": [],
   "source": [
    "# Importing Airports and Plane datasets\n",
    "Airport = pd.read_csv(r\"C:\\Documents\\Python data set\\airports.csv\")\n",
    "Plane_data = pd.read_csv(r\"C:\\Documents\\Python data set\\plane-data.csv\")"
   ]
  },
  {
   "cell_type": "code",
   "execution_count": 90,
   "id": "6fec9811",
   "metadata": {},
   "outputs": [
    {
     "data": {
      "text/html": [
       "<div>\n",
       "<style scoped>\n",
       "    .dataframe tbody tr th:only-of-type {\n",
       "        vertical-align: middle;\n",
       "    }\n",
       "\n",
       "    .dataframe tbody tr th {\n",
       "        vertical-align: top;\n",
       "    }\n",
       "\n",
       "    .dataframe thead th {\n",
       "        text-align: right;\n",
       "    }\n",
       "</style>\n",
       "<table border=\"1\" class=\"dataframe\">\n",
       "  <thead>\n",
       "    <tr style=\"text-align: right;\">\n",
       "      <th></th>\n",
       "      <th>tailnum</th>\n",
       "      <th>type</th>\n",
       "      <th>manufacturer</th>\n",
       "      <th>issue_date</th>\n",
       "      <th>model</th>\n",
       "      <th>status</th>\n",
       "      <th>aircraft_type</th>\n",
       "      <th>engine_type</th>\n",
       "      <th>year</th>\n",
       "    </tr>\n",
       "  </thead>\n",
       "  <tbody>\n",
       "    <tr>\n",
       "      <th>34</th>\n",
       "      <td>N10156</td>\n",
       "      <td>Corporation</td>\n",
       "      <td>EMBRAER</td>\n",
       "      <td>02/13/2004</td>\n",
       "      <td>EMB-145XR</td>\n",
       "      <td>Valid</td>\n",
       "      <td>Fixed Wing Multi-Engine</td>\n",
       "      <td>Turbo-Fan</td>\n",
       "      <td>2004</td>\n",
       "    </tr>\n",
       "    <tr>\n",
       "      <th>35</th>\n",
       "      <td>N102UW</td>\n",
       "      <td>Corporation</td>\n",
       "      <td>AIRBUS INDUSTRIE</td>\n",
       "      <td>05/26/1999</td>\n",
       "      <td>A320-214</td>\n",
       "      <td>Valid</td>\n",
       "      <td>Fixed Wing Multi-Engine</td>\n",
       "      <td>Turbo-Fan</td>\n",
       "      <td>1998</td>\n",
       "    </tr>\n",
       "    <tr>\n",
       "      <th>36</th>\n",
       "      <td>N10323</td>\n",
       "      <td>Corporation</td>\n",
       "      <td>BOEING</td>\n",
       "      <td>07/01/1997</td>\n",
       "      <td>737-3TO</td>\n",
       "      <td>Valid</td>\n",
       "      <td>Fixed Wing Multi-Engine</td>\n",
       "      <td>Turbo-Jet</td>\n",
       "      <td>1986</td>\n",
       "    </tr>\n",
       "    <tr>\n",
       "      <th>37</th>\n",
       "      <td>N103US</td>\n",
       "      <td>Corporation</td>\n",
       "      <td>AIRBUS INDUSTRIE</td>\n",
       "      <td>06/18/1999</td>\n",
       "      <td>A320-214</td>\n",
       "      <td>Valid</td>\n",
       "      <td>Fixed Wing Multi-Engine</td>\n",
       "      <td>Turbo-Fan</td>\n",
       "      <td>1999</td>\n",
       "    </tr>\n",
       "    <tr>\n",
       "      <th>38</th>\n",
       "      <td>N104UA</td>\n",
       "      <td>Corporation</td>\n",
       "      <td>BOEING</td>\n",
       "      <td>01/26/1998</td>\n",
       "      <td>747-422</td>\n",
       "      <td>Valid</td>\n",
       "      <td>Fixed Wing Multi-Engine</td>\n",
       "      <td>Turbo-Fan</td>\n",
       "      <td>1998</td>\n",
       "    </tr>\n",
       "    <tr>\n",
       "      <th>39</th>\n",
       "      <td>N104UW</td>\n",
       "      <td>Corporation</td>\n",
       "      <td>AIRBUS INDUSTRIE</td>\n",
       "      <td>07/02/1999</td>\n",
       "      <td>A320-214</td>\n",
       "      <td>Valid</td>\n",
       "      <td>Fixed Wing Multi-Engine</td>\n",
       "      <td>Turbo-Fan</td>\n",
       "      <td>1999</td>\n",
       "    </tr>\n",
       "    <tr>\n",
       "      <th>40</th>\n",
       "      <td>N10575</td>\n",
       "      <td>Corporation</td>\n",
       "      <td>EMBRAER</td>\n",
       "      <td>06/24/2003</td>\n",
       "      <td>EMB-145LR</td>\n",
       "      <td>Valid</td>\n",
       "      <td>Fixed Wing Multi-Engine</td>\n",
       "      <td>Turbo-Fan</td>\n",
       "      <td>2002</td>\n",
       "    </tr>\n",
       "    <tr>\n",
       "      <th>41</th>\n",
       "      <td>N105UA</td>\n",
       "      <td>Corporation</td>\n",
       "      <td>BOEING</td>\n",
       "      <td>10/15/2007</td>\n",
       "      <td>747-451</td>\n",
       "      <td>Valid</td>\n",
       "      <td>Fixed Wing Multi-Engine</td>\n",
       "      <td>Turbo-Jet</td>\n",
       "      <td>1994</td>\n",
       "    </tr>\n",
       "    <tr>\n",
       "      <th>42</th>\n",
       "      <td>N105UW</td>\n",
       "      <td>Corporation</td>\n",
       "      <td>AIRBUS INDUSTRIE</td>\n",
       "      <td>07/22/1999</td>\n",
       "      <td>A320-214</td>\n",
       "      <td>Valid</td>\n",
       "      <td>Fixed Wing Multi-Engine</td>\n",
       "      <td>Turbo-Fan</td>\n",
       "      <td>1999</td>\n",
       "    </tr>\n",
       "    <tr>\n",
       "      <th>43</th>\n",
       "      <td>N106US</td>\n",
       "      <td>Corporation</td>\n",
       "      <td>AIRBUS INDUSTRIE</td>\n",
       "      <td>08/05/1999</td>\n",
       "      <td>A320-214</td>\n",
       "      <td>Valid</td>\n",
       "      <td>Fixed Wing Multi-Engine</td>\n",
       "      <td>Turbo-Fan</td>\n",
       "      <td>1999</td>\n",
       "    </tr>\n",
       "  </tbody>\n",
       "</table>\n",
       "</div>"
      ],
      "text/plain": [
       "   tailnum         type      manufacturer  issue_date      model status  \\\n",
       "34  N10156  Corporation           EMBRAER  02/13/2004  EMB-145XR  Valid   \n",
       "35  N102UW  Corporation  AIRBUS INDUSTRIE  05/26/1999   A320-214  Valid   \n",
       "36  N10323  Corporation            BOEING  07/01/1997    737-3TO  Valid   \n",
       "37  N103US  Corporation  AIRBUS INDUSTRIE  06/18/1999   A320-214  Valid   \n",
       "38  N104UA  Corporation            BOEING  01/26/1998    747-422  Valid   \n",
       "39  N104UW  Corporation  AIRBUS INDUSTRIE  07/02/1999   A320-214  Valid   \n",
       "40  N10575  Corporation           EMBRAER  06/24/2003  EMB-145LR  Valid   \n",
       "41  N105UA  Corporation            BOEING  10/15/2007    747-451  Valid   \n",
       "42  N105UW  Corporation  AIRBUS INDUSTRIE  07/22/1999   A320-214  Valid   \n",
       "43  N106US  Corporation  AIRBUS INDUSTRIE  08/05/1999   A320-214  Valid   \n",
       "\n",
       "              aircraft_type engine_type  year  \n",
       "34  Fixed Wing Multi-Engine   Turbo-Fan  2004  \n",
       "35  Fixed Wing Multi-Engine   Turbo-Fan  1998  \n",
       "36  Fixed Wing Multi-Engine   Turbo-Jet  1986  \n",
       "37  Fixed Wing Multi-Engine   Turbo-Fan  1999  \n",
       "38  Fixed Wing Multi-Engine   Turbo-Fan  1998  \n",
       "39  Fixed Wing Multi-Engine   Turbo-Fan  1999  \n",
       "40  Fixed Wing Multi-Engine   Turbo-Fan  2002  \n",
       "41  Fixed Wing Multi-Engine   Turbo-Jet  1994  \n",
       "42  Fixed Wing Multi-Engine   Turbo-Fan  1999  \n",
       "43  Fixed Wing Multi-Engine   Turbo-Fan  1999  "
      ]
     },
     "execution_count": 90,
     "metadata": {},
     "output_type": "execute_result"
    }
   ],
   "source": [
    "Plane_data.head(10)"
   ]
  },
  {
   "cell_type": "code",
   "execution_count": 81,
   "id": "17d1bd40",
   "metadata": {},
   "outputs": [],
   "source": [
    "# Removing duplicate values from the data sets\n",
    "Airport = Airport.drop_duplicates()\n",
    "Plane_data = Plane_data.drop_duplicates()"
   ]
  },
  {
   "cell_type": "code",
   "execution_count": 82,
   "id": "4a320159",
   "metadata": {},
   "outputs": [
    {
     "data": {
      "text/plain": [
       "Index(['iata', 'airport', 'city', 'state', 'country', 'lat', 'long'], dtype='object')"
      ]
     },
     "execution_count": 82,
     "metadata": {},
     "output_type": "execute_result"
    }
   ],
   "source": [
    "# Checking columns of Airport dataset\n",
    "Airport.columns\n"
   ]
  },
  {
   "cell_type": "code",
   "execution_count": 83,
   "id": "0835ca49",
   "metadata": {},
   "outputs": [
    {
     "data": {
      "text/plain": [
       "Index(['tailnum', 'type', 'manufacturer', 'issue_date', 'model', 'status',\n",
       "       'aircraft_type', 'engine_type', 'year'],\n",
       "      dtype='object')"
      ]
     },
     "execution_count": 83,
     "metadata": {},
     "output_type": "execute_result"
    }
   ],
   "source": [
    "# Checking columns of plane dataset\n",
    "Plane_data.columns"
   ]
  },
  {
   "cell_type": "code",
   "execution_count": 84,
   "id": "ca26ddf5",
   "metadata": {},
   "outputs": [
    {
     "data": {
      "text/plain": [
       "iata        0\n",
       "airport     0\n",
       "city       12\n",
       "state      12\n",
       "country     0\n",
       "lat         0\n",
       "long        0\n",
       "dtype: int64"
      ]
     },
     "execution_count": 84,
     "metadata": {},
     "output_type": "execute_result"
    }
   ],
   "source": [
    "# Checking for null values and missing values of these datasets\n",
    "Airport.isnull().sum(axis=0)\n"
   ]
  },
  {
   "cell_type": "code",
   "execution_count": 85,
   "id": "ec84bfde",
   "metadata": {},
   "outputs": [
    {
     "data": {
      "text/plain": [
       "tailnum            0\n",
       "type             549\n",
       "manufacturer     549\n",
       "issue_date       549\n",
       "model            549\n",
       "status           549\n",
       "aircraft_type    549\n",
       "engine_type      549\n",
       "year             549\n",
       "dtype: int64"
      ]
     },
     "execution_count": 85,
     "metadata": {},
     "output_type": "execute_result"
    }
   ],
   "source": [
    "Plane_data.isnull().sum(axis=0)"
   ]
  },
  {
   "cell_type": "code",
   "execution_count": 87,
   "id": "0bc5d5e1",
   "metadata": {},
   "outputs": [],
   "source": [
    "# Removing missing values and null values\n",
    "Airport = Airport.dropna()"
   ]
  },
  {
   "cell_type": "code",
   "execution_count": 88,
   "id": "b4f5e334",
   "metadata": {},
   "outputs": [],
   "source": [
    "Plane_data = Plane_data.dropna()"
   ]
  },
  {
   "cell_type": "code",
   "execution_count": 89,
   "id": "c7036858",
   "metadata": {},
   "outputs": [],
   "source": [
    "# Saving the cleaned datasets\n",
    "merged_data.to_csv(r'c:\\\\Documents\\Python data set\\\\merged.csv', index=False)\n",
    "Airport.to_csv(r'c:\\\\Documents\\Python data set\\\\Airport.csv', index=False)\n",
    "Plane_data.to_csv(r'c:\\\\Documents\\Python data set\\\\Plane_data.csv', index=False)\n"
   ]
  },
  {
   "cell_type": "code",
   "execution_count": null,
   "id": "cf2d90ce",
   "metadata": {},
   "outputs": [],
   "source": []
  }
 ],
 "metadata": {
  "kernelspec": {
   "display_name": "Python 3 (ipykernel)",
   "language": "python",
   "name": "python3"
  },
  "language_info": {
   "codemirror_mode": {
    "name": "ipython",
    "version": 3
   },
   "file_extension": ".py",
   "mimetype": "text/x-python",
   "name": "python",
   "nbconvert_exporter": "python",
   "pygments_lexer": "ipython3",
   "version": "3.11.4"
  }
 },
 "nbformat": 4,
 "nbformat_minor": 5
}
